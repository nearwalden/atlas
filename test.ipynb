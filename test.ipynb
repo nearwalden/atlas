{
 "cells": [
  {
   "cell_type": "code",
   "execution_count": 2,
   "metadata": {},
   "outputs": [],
   "source": [
    "import importlib"
   ]
  },
  {
   "cell_type": "code",
   "execution_count": 10,
   "metadata": {},
   "outputs": [],
   "source": [
    "import core"
   ]
  },
  {
   "cell_type": "code",
   "execution_count": 5,
   "metadata": {},
   "outputs": [],
   "source": [
    "import create"
   ]
  },
  {
   "cell_type": "code",
   "execution_count": 34,
   "metadata": {},
   "outputs": [],
   "source": [
    "import modify"
   ]
  },
  {
   "cell_type": "code",
   "execution_count": 40,
   "metadata": {},
   "outputs": [],
   "source": [
    "import get"
   ]
  },
  {
   "cell_type": "code",
   "execution_count": 39,
   "metadata": {},
   "outputs": [
    {
     "data": {
      "text/plain": [
       "<module 'modify' from '/mnt/c/Users/nearw/gitcode/atlas/modify.py'>"
      ]
     },
     "execution_count": 39,
     "metadata": {},
     "output_type": "execute_result"
    }
   ],
   "source": [
    "importlib.reload(modify)"
   ]
  },
  {
   "cell_type": "code",
   "execution_count": 41,
   "metadata": {},
   "outputs": [
    {
     "data": {
      "text/plain": [
       "'imported project'"
      ]
     },
     "execution_count": 41,
     "metadata": {},
     "output_type": "execute_result"
    }
   ],
   "source": [
    "create.create_project('/mnt/c/Users/nearw/gitcode/peak/')"
   ]
  },
  {
   "cell_type": "code",
   "execution_count": 16,
   "metadata": {},
   "outputs": [],
   "source": [
    "client = core.mongo_client()"
   ]
  },
  {
   "cell_type": "code",
   "execution_count": 37,
   "metadata": {},
   "outputs": [
    {
     "data": {
      "text/plain": [
       "True"
      ]
     },
     "execution_count": 37,
     "metadata": {},
     "output_type": "execute_result"
    }
   ],
   "source": [
    "modify.delete_project('peak')"
   ]
  },
  {
   "cell_type": "code",
   "execution_count": 43,
   "metadata": {},
   "outputs": [],
   "source": [
    "p = get.get_project('peak')"
   ]
  },
  {
   "cell_type": "code",
   "execution_count": 46,
   "metadata": {},
   "outputs": [
    {
     "data": {
      "text/plain": [
       "{'_id': ObjectId('5fe7ced46dd793a03ccd1ce8'),\n",
       " 'name': 'peak',\n",
       " 'description': 'A study of peak everything starting with population.',\n",
       " 'owner': {'name': 'dd', 'email': 'nearwalden@gmail.com'},\n",
       " 'repos': {'git': 'https://github.com/nearwalden/peak'}}"
      ]
     },
     "execution_count": 46,
     "metadata": {},
     "output_type": "execute_result"
    }
   ],
   "source": [
    "p[]"
   ]
  },
  {
   "cell_type": "code",
   "execution_count": 26,
   "metadata": {},
   "outputs": [
    {
     "data": {
      "text/plain": [
       "Collection(Database(MongoClient(host=['192.168.20.10:27017'], document_class=dict, tz_aware=False, connect=True), 'local'), 'startup_log')"
      ]
     },
     "execution_count": 26,
     "metadata": {},
     "output_type": "execute_result"
    }
   ],
   "source": [
    "coll"
   ]
  },
  {
   "cell_type": "code",
   "execution_count": 27,
   "metadata": {},
   "outputs": [
    {
     "data": {
      "text/plain": [
       "{'_id': 'frost-1608685373245',\n",
       " 'hostname': 'frost',\n",
       " 'startTime': datetime.datetime(2020, 12, 23, 1, 2, 53),\n",
       " 'startTimeLocal': 'Tue Dec 22 20:02:53.245',\n",
       " 'cmdLine': {'config': '/etc/mongod.conf',\n",
       "  'net': {'bindIp': '127.0.0.1', 'port': 27017},\n",
       "  'processManagement': {'timeZoneInfo': '/usr/share/zoneinfo'},\n",
       "  'storage': {'dbPath': '/var/lib/mongodb', 'journal': {'enabled': True}},\n",
       "  'systemLog': {'destination': 'file',\n",
       "   'logAppend': True,\n",
       "   'path': '/var/log/mongodb/mongod.log'}},\n",
       " 'pid': 28415,\n",
       " 'buildinfo': {'version': '4.4.2',\n",
       "  'gitVersion': '15e73dc5738d2278b688f8929aee605fe4279b0e',\n",
       "  'modules': [],\n",
       "  'allocator': 'tcmalloc',\n",
       "  'javascriptEngine': 'mozjs',\n",
       "  'sysInfo': 'deprecated',\n",
       "  'versionArray': [4, 4, 2, 0],\n",
       "  'openssl': {'running': 'OpenSSL 1.1.1d  10 Sep 2019',\n",
       "   'compiled': 'OpenSSL 1.1.1d  10 Sep 2019'},\n",
       "  'buildEnvironment': {'distmod': 'debian10',\n",
       "   'distarch': 'x86_64',\n",
       "   'cc': '/opt/mongodbtoolchain/v3/bin/gcc: gcc (GCC) 8.2.0',\n",
       "   'ccflags': '-fno-omit-frame-pointer -fno-strict-aliasing -fasynchronous-unwind-tables -ggdb -pthread -Wall -Wsign-compare -Wno-unknown-pragmas -Winvalid-pch -Werror -O2 -Wno-unused-local-typedefs -Wno-unused-function -Wno-deprecated-declarations -Wno-unused-const-variable -Wno-unused-but-set-variable -Wno-missing-braces -fstack-protector-strong -fno-builtin-memcmp',\n",
       "   'cxx': '/opt/mongodbtoolchain/v3/bin/g++: g++ (GCC) 8.2.0',\n",
       "   'cxxflags': '-Woverloaded-virtual -Wno-maybe-uninitialized -fsized-deallocation -std=c++17',\n",
       "   'linkflags': '-pthread -Wl,-z,now -rdynamic -Wl,--fatal-warnings -fstack-protector-strong -fuse-ld=gold -Wl,--no-threads -Wl,--build-id -Wl,--hash-style=gnu -Wl,-z,noexecstack -Wl,--warn-execstack -Wl,-z,relro -Wl,-z,origin -Wl,--enable-new-dtags',\n",
       "   'target_arch': 'x86_64',\n",
       "   'target_os': 'linux',\n",
       "   'cppdefines': 'SAFEINT_USE_INTRINSICS 0 PCRE_STATIC NDEBUG _XOPEN_SOURCE 700 _GNU_SOURCE _FORTIFY_SOURCE 2 BOOST_THREAD_VERSION 5 BOOST_THREAD_USES_DATETIME BOOST_SYSTEM_NO_DEPRECATED BOOST_MATH_NO_LONG_DOUBLE_MATH_FUNCTIONS BOOST_ENABLE_ASSERT_DEBUG_HANDLER BOOST_LOG_NO_SHORTHAND_NAMES BOOST_LOG_USE_NATIVE_SYSLOG BOOST_LOG_WITHOUT_THREAD_ATTR ABSL_FORCE_ALIGNED_ACCESS'},\n",
       "  'bits': 64,\n",
       "  'debug': False,\n",
       "  'maxBsonObjectSize': 16777216,\n",
       "  'storageEngines': ['biggie', 'devnull', 'ephemeralForTest', 'wiredTiger']}}"
      ]
     },
     "execution_count": 27,
     "metadata": {},
     "output_type": "execute_result"
    }
   ],
   "source": [
    "coll.find_one({'hostname': 'frost'})"
   ]
  },
  {
   "cell_type": "code",
   "execution_count": null,
   "metadata": {},
   "outputs": [],
   "source": []
  }
 ],
 "metadata": {
  "kernelspec": {
   "display_name": "Python 3",
   "language": "python",
   "name": "python3"
  },
  "language_info": {
   "codemirror_mode": {
    "name": "ipython",
    "version": 3
   },
   "file_extension": ".py",
   "mimetype": "text/x-python",
   "name": "python",
   "nbconvert_exporter": "python",
   "pygments_lexer": "ipython3",
   "version": "3.8.5"
  }
 },
 "nbformat": 4,
 "nbformat_minor": 4
}
